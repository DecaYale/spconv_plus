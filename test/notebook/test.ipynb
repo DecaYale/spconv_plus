{
 "cells": [
  {
   "cell_type": "code",
   "execution_count": 17,
   "metadata": {},
   "outputs": [],
   "source": [
    "import sys\n",
    "import numpy as np \n",
    "import torch\n",
    "# import spconv "
   ]
  },
  {
   "cell_type": "code",
   "execution_count": 18,
   "metadata": {},
   "outputs": [
    {
     "name": "stdout",
     "output_type": "stream",
     "text": [
      "The autoreload extension is already loaded. To reload it, use:\n",
      "  %reload_ext autoreload\n"
     ]
    }
   ],
   "source": [
    "import spconv\n",
    "%load_ext autoreload\n",
    "\n",
    "%autoreload 2\n",
    "# from spconv.conv import SparseConcat"
   ]
  },
  {
   "cell_type": "code",
   "execution_count": 40,
   "metadata": {},
   "outputs": [],
   "source": [
    "sparse_shape = [10, 20,30]\n",
    "coors1_np=np.array([0,0,0,0,\n",
    "                    0,5,5,5,\n",
    "                    1,2,2,3,\n",
    "                    1,3,3,3,\n",
    "            \n",
    "                  \n",
    "                  ]).reshape(-1,4)\n",
    "coors2_np=np.array([0,0,0,0,\n",
    "                    0,5,5,5,\n",
    "                    1,4,5,6,\n",
    "                    1,4,4,5,\n",
    "                    1,4,4,4,\n",
    "                    \n",
    "                  ]).reshape(-1,4)\n",
    "voxel_features1_np = np.array([1,1,\n",
    "                             2,2,\n",
    "                               3,3,\n",
    "                               4,4,\n",
    "                               ]).reshape(-1,2)\n",
    "voxel_features2_np = np.array([11,11,\n",
    "                             22,22,\n",
    "                               33,33,\n",
    "                               44,44,\n",
    "                               55,55,\n",
    "                               ]).reshape(-1,2)\n",
    "batch_size=2\n",
    "device='cpu'\n",
    "dtype=torch.float32"
   ]
  },
  {
   "cell_type": "code",
   "execution_count": 41,
   "metadata": {},
   "outputs": [],
   "source": [
    "# sparse_shape = torch.from_numpy(sparse_shape_np).to(device=device)\n",
    "coors1=torch.from_numpy(coors1_np).to(device=device, dtype=dtype)\n",
    "coors2=torch.from_numpy(coors2_np).to(device=device, dtype=dtype)\n",
    "\n",
    "voxel_features1 = torch.from_numpy(voxel_features1_np).to(device=device, dtype=dtype).requires_grad_()\n",
    "voxel_features2 = torch.from_numpy(voxel_features2_np).to(device=device, dtype=dtype).requires_grad_()"
   ]
  },
  {
   "cell_type": "code",
   "execution_count": 42,
   "metadata": {},
   "outputs": [],
   "source": [
    "\n",
    "coors1 = coors1.int()\n",
    "coors2 = coors2.int()\n",
    "tensor1= spconv.SparseConvTensor(voxel_features1, coors1, sparse_shape,\n",
    "                                      batch_size)\n",
    "tensor2= spconv.SparseConvTensor(voxel_features2, coors2, sparse_shape,\n",
    "                                      batch_size)"
   ]
  },
  {
   "cell_type": "code",
   "execution_count": 43,
   "metadata": {},
   "outputs": [],
   "source": [
    "sp_cat = spconv.SparseConcat3d(indice_key='spcat0')\n",
    "sp_conv = spconv.SubMConv3d( in_channels=2,\n",
    "                 out_channels=2,\n",
    "                 kernel_size=3,\n",
    "                            indice_key='subm0')"
   ]
  },
  {
   "cell_type": "code",
   "execution_count": 44,
   "metadata": {},
   "outputs": [],
   "source": [
    "t = sp_cat([tensor1, tensor2])\n",
    "t_conv = sp_conv(tensor2)"
   ]
  },
  {
   "cell_type": "code",
   "execution_count": 45,
   "metadata": {},
   "outputs": [
    {
     "data": {
      "text/plain": [
       "tensor([[ 1.,  1., 11., 11.],\n",
       "        [ 2.,  2., 22., 22.],\n",
       "        [ 3.,  3.,  0.,  0.],\n",
       "        [ 4.,  4.,  0.,  0.],\n",
       "        [ 0.,  0., 33., 33.],\n",
       "        [ 0.,  0., 44., 44.],\n",
       "        [ 0.,  0., 55., 55.]], grad_fn=<SparseConcatFunctionBackward>)"
      ]
     },
     "execution_count": 45,
     "metadata": {},
     "output_type": "execute_result"
    }
   ],
   "source": [
    "t.features"
   ]
  },
  {
   "cell_type": "code",
   "execution_count": 55,
   "metadata": {},
   "outputs": [
    {
     "data": {
      "text/plain": [
       "tensor([[[-1, -1, -1, -1, -1],\n",
       "         [-1, -1, -1, -1, -1]],\n",
       "\n",
       "        [[-1, -1, -1, -1, -1],\n",
       "         [-1, -1, -1, -1, -1]],\n",
       "\n",
       "        [[-1, -1, -1, -1, -1],\n",
       "         [-1, -1, -1, -1, -1]],\n",
       "\n",
       "        [[-1, -1, -1, -1, -1],\n",
       "         [-1, -1, -1, -1, -1]],\n",
       "\n",
       "        [[-1, -1, -1, -1, -1],\n",
       "         [-1, -1, -1, -1, -1]],\n",
       "\n",
       "        [[-1, -1, -1, -1, -1],\n",
       "         [-1, -1, -1, -1, -1]],\n",
       "\n",
       "        [[-1, -1, -1, -1, -1],\n",
       "         [-1, -1, -1, -1, -1]],\n",
       "\n",
       "        [[-1, -1, -1, -1, -1],\n",
       "         [-1, -1, -1, -1, -1]],\n",
       "\n",
       "        [[-1, -1, -1, -1, -1],\n",
       "         [-1, -1, -1, -1, -1]],\n",
       "\n",
       "        [[ 3, -1, -1, -1, -1],\n",
       "         [ 2, -1, -1, -1, -1]],\n",
       "\n",
       "        [[-1, -1, -1, -1, -1],\n",
       "         [-1, -1, -1, -1, -1]],\n",
       "\n",
       "        [[-1, -1, -1, -1, -1],\n",
       "         [-1, -1, -1, -1, -1]],\n",
       "\n",
       "        [[ 4, -1, -1, -1, -1],\n",
       "         [ 3, -1, -1, -1, -1]],\n",
       "\n",
       "        [[ 0,  1,  2,  3,  4],\n",
       "         [ 0,  1,  2,  3,  4]],\n",
       "\n",
       "        [[ 3, -1, -1, -1, -1],\n",
       "         [ 4, -1, -1, -1, -1]],\n",
       "\n",
       "        [[-1, -1, -1, -1, -1],\n",
       "         [-1, -1, -1, -1, -1]],\n",
       "\n",
       "        [[-1, -1, -1, -1, -1],\n",
       "         [-1, -1, -1, -1, -1]],\n",
       "\n",
       "        [[ 2, -1, -1, -1, -1],\n",
       "         [ 3, -1, -1, -1, -1]],\n",
       "\n",
       "        [[-1, -1, -1, -1, -1],\n",
       "         [-1, -1, -1, -1, -1]],\n",
       "\n",
       "        [[-1, -1, -1, -1, -1],\n",
       "         [-1, -1, -1, -1, -1]],\n",
       "\n",
       "        [[-1, -1, -1, -1, -1],\n",
       "         [-1, -1, -1, -1, -1]],\n",
       "\n",
       "        [[-1, -1, -1, -1, -1],\n",
       "         [-1, -1, -1, -1, -1]],\n",
       "\n",
       "        [[-1, -1, -1, -1, -1],\n",
       "         [-1, -1, -1, -1, -1]],\n",
       "\n",
       "        [[-1, -1, -1, -1, -1],\n",
       "         [-1, -1, -1, -1, -1]],\n",
       "\n",
       "        [[-1, -1, -1, -1, -1],\n",
       "         [-1, -1, -1, -1, -1]],\n",
       "\n",
       "        [[-1, -1, -1, -1, -1],\n",
       "         [-1, -1, -1, -1, -1]],\n",
       "\n",
       "        [[-1, -1, -1, -1, -1],\n",
       "         [-1, -1, -1, -1, -1]]], dtype=torch.int32)"
      ]
     },
     "execution_count": 55,
     "metadata": {},
     "output_type": "execute_result"
    }
   ],
   "source": [
    "tensor2.indice_dict['subm0'][2]\n",
    "# tensor2.indice_dict['subm0'][3]"
   ]
  },
  {
   "cell_type": "code",
   "execution_count": 47,
   "metadata": {},
   "outputs": [
    {
     "data": {
      "text/plain": [
       "tensor([[1., 1.],\n",
       "        [2., 2.],\n",
       "        [3., 3.],\n",
       "        [4., 4.]], requires_grad=True)"
      ]
     },
     "execution_count": 47,
     "metadata": {},
     "output_type": "execute_result"
    }
   ],
   "source": [
    "tensor1.features"
   ]
  },
  {
   "cell_type": "code",
   "execution_count": 48,
   "metadata": {},
   "outputs": [
    {
     "data": {
      "text/plain": [
       "tensor([[11., 11.],\n",
       "        [22., 22.],\n",
       "        [33., 33.],\n",
       "        [44., 44.],\n",
       "        [55., 55.]], requires_grad=True)"
      ]
     },
     "execution_count": 48,
     "metadata": {},
     "output_type": "execute_result"
    }
   ],
   "source": [
    "tensor2.features"
   ]
  },
  {
   "cell_type": "code",
   "execution_count": 49,
   "metadata": {},
   "outputs": [
    {
     "data": {
      "text/plain": [
       "tensor([[[ 0,  1,  2,  3,  4,  4,  4, -1, -1],\n",
       "         [ 0,  1,  5,  5,  2,  3,  4, -1, -1]]], dtype=torch.int32)"
      ]
     },
     "execution_count": 49,
     "metadata": {},
     "output_type": "execute_result"
    }
   ],
   "source": [
    "tensor1.indice_dict['spcat0'][2]"
   ]
  },
  {
   "cell_type": "code",
   "execution_count": 50,
   "metadata": {},
   "outputs": [
    {
     "data": {
      "text/plain": [
       "torch.Size([1, 2, 9])"
      ]
     },
     "execution_count": 50,
     "metadata": {},
     "output_type": "execute_result"
    }
   ],
   "source": [
    "tensor1.indice_dict['spcat0'][2].shape"
   ]
  },
  {
   "cell_type": "code",
   "execution_count": 12,
   "metadata": {},
   "outputs": [
    {
     "data": {
      "text/plain": [
       "(tensor([[0, 0, 0, 0],\n",
       "         [0, 5, 5, 5],\n",
       "         [1, 2, 2, 3],\n",
       "         [1, 3, 3, 3],\n",
       "         [1, 4, 5, 6],\n",
       "         [1, 4, 4, 4],\n",
       "         [1, 4, 4, 4]], dtype=torch.int32), tensor([[0, 0, 0, 0],\n",
       "         [0, 5, 5, 5],\n",
       "         [1, 2, 2, 3],\n",
       "         [1, 3, 3, 3]], dtype=torch.int32), tensor([[[ 0,  1,  2,  3,  4,  4,  4, -1, -1],\n",
       "          [ 0,  1,  5,  5,  2,  3,  4, -1, -1]]], dtype=torch.int32), tensor([7], dtype=torch.int32), [10,\n",
       "  20,\n",
       "  30])"
      ]
     },
     "execution_count": 12,
     "metadata": {},
     "output_type": "execute_result"
    }
   ],
   "source": [
    "tensor1.indice_dict['spcat0'] # outids, indices1,indice_pairs, indice_pair_num,spatial_shape1"
   ]
  },
  {
   "cell_type": "code",
   "execution_count": 13,
   "metadata": {},
   "outputs": [],
   "source": [
    "g_out = torch.rand_like(t.features)\n",
    "\n",
    "t.features.backward(g_out)"
   ]
  },
  {
   "cell_type": "code",
   "execution_count": 14,
   "metadata": {},
   "outputs": [
    {
     "data": {
      "text/plain": [
       "tensor([[0.4548, 0.8329, 0.8482, 0.9255],\n",
       "        [0.1255, 0.5623, 0.1243, 0.9724],\n",
       "        [0.2756, 0.3747, 0.8976, 0.3978],\n",
       "        [0.9606, 0.4339, 0.5857, 0.8963],\n",
       "        [0.3222, 0.9786, 0.6724, 0.8704],\n",
       "        [0.7855, 0.3705, 0.2618, 0.8621],\n",
       "        [0.5532, 0.3118, 0.0257, 0.0718]])"
      ]
     },
     "execution_count": 14,
     "metadata": {},
     "output_type": "execute_result"
    }
   ],
   "source": [
    "g_out"
   ]
  },
  {
   "cell_type": "code",
   "execution_count": 15,
   "metadata": {},
   "outputs": [
    {
     "data": {
      "text/plain": [
       "tensor([[0.4548, 0.8329],\n",
       "        [0.1255, 0.5623],\n",
       "        [0.2756, 0.3747],\n",
       "        [0.9606, 0.4339]])"
      ]
     },
     "execution_count": 15,
     "metadata": {},
     "output_type": "execute_result"
    }
   ],
   "source": [
    "tensor1.features.grad"
   ]
  },
  {
   "cell_type": "code",
   "execution_count": 16,
   "metadata": {},
   "outputs": [
    {
     "data": {
      "text/plain": [
       "tensor([[0.8482, 0.9255],\n",
       "        [0.1243, 0.9724],\n",
       "        [0.6724, 0.8704],\n",
       "        [0.2618, 0.8621],\n",
       "        [0.0257, 0.0718]])"
      ]
     },
     "execution_count": 16,
     "metadata": {},
     "output_type": "execute_result"
    }
   ],
   "source": [
    "tensor2.features.grad"
   ]
  },
  {
   "cell_type": "code",
   "execution_count": null,
   "metadata": {},
   "outputs": [],
   "source": []
  },
  {
   "cell_type": "code",
   "execution_count": null,
   "metadata": {},
   "outputs": [],
   "source": []
  },
  {
   "cell_type": "code",
   "execution_count": null,
   "metadata": {},
   "outputs": [],
   "source": []
  }
 ],
 "metadata": {
  "kernelspec": {
   "display_name": "conda_py37",
   "language": "python",
   "name": "conda_py37"
  },
  "language_info": {
   "codemirror_mode": {
    "name": "ipython",
    "version": 3
   },
   "file_extension": ".py",
   "mimetype": "text/x-python",
   "name": "python",
   "nbconvert_exporter": "python",
   "pygments_lexer": "ipython3",
   "version": "3.7.4"
  }
 },
 "nbformat": 4,
 "nbformat_minor": 2
}
