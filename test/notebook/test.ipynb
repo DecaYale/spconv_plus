{
 "cells": [
  {
   "cell_type": "code",
   "execution_count": 1,
   "metadata": {},
   "outputs": [],
   "source": [
    "import sys\n",
    "import numpy as np \n",
    "import torch\n",
    "# import spconv "
   ]
  },
  {
   "cell_type": "code",
   "execution_count": 2,
   "metadata": {},
   "outputs": [],
   "source": [
    "import spconv\n",
    "%load_ext autoreload\n",
    "\n",
    "%autoreload 2\n",
    "# from spconv.conv import SparseConcat"
   ]
  },
  {
   "cell_type": "code",
   "execution_count": 12,
   "metadata": {},
   "outputs": [],
   "source": [
    "sparse_shape = [10, 20,30]\n",
    "coors1_np=np.array([0,0,0,0,\n",
    "                    0,5,5,5,\n",
    "                    1,2,2,3,\n",
    "                    1,3,3,3,\n",
    "                    1,3,3,3,\n",
    "                    1,3,3,3\n",
    "                  ]).reshape(-1,4)\n",
    "coors2_np=np.array([0,0,0,0,\n",
    "                    0,5,5,5,\n",
    "                    1,4,5,6,\n",
    "                    1,4,4,4,\n",
    "                    1,4,4,4,\n",
    "                    1,4,4,4,\n",
    "                  ]).reshape(-1,4)\n",
    "voxel_features1_np = np.array([1,1,\n",
    "                             2,2,\n",
    "                               3,3,\n",
    "                               4,4,\n",
    "                               5,5,\n",
    "                               0,0]).reshape(-1,2)\n",
    "voxel_features2_np = np.array([11,11,\n",
    "                             22,22,\n",
    "                               33,33,\n",
    "                               44,44,\n",
    "                               55,55,\n",
    "                               0,0]).reshape(-1,2)\n",
    "batch_size=2\n",
    "device='cpu'\n",
    "dtype=torch.float32"
   ]
  },
  {
   "cell_type": "code",
   "execution_count": 13,
   "metadata": {},
   "outputs": [],
   "source": [
    "# sparse_shape = torch.from_numpy(sparse_shape_np).to(device=device)\n",
    "coors1=torch.from_numpy(coors1_np).to(device=device, dtype=dtype)\n",
    "coors2=torch.from_numpy(coors2_np).to(device=device, dtype=dtype)\n",
    "\n",
    "voxel_features1 = torch.from_numpy(voxel_features1_np).to(device=device, dtype=dtype).requires_grad_()\n",
    "voxel_features2 = torch.from_numpy(voxel_features2_np).to(device=device, dtype=dtype).requires_grad_()"
   ]
  },
  {
   "cell_type": "code",
   "execution_count": 14,
   "metadata": {},
   "outputs": [],
   "source": [
    "\n",
    "coors1 = coors1.int()\n",
    "coors2 = coors2.int()\n",
    "tensor1= spconv.SparseConvTensor(voxel_features1, coors1, sparse_shape,\n",
    "                                      batch_size)\n",
    "tensor2= spconv.SparseConvTensor(voxel_features2, coors2, sparse_shape,\n",
    "                                      batch_size)"
   ]
  },
  {
   "cell_type": "code",
   "execution_count": 15,
   "metadata": {},
   "outputs": [],
   "source": [
    "sp_cat = spconv.SparseConcat3d(indice_key='spcat0')"
   ]
  },
  {
   "cell_type": "code",
   "execution_count": 16,
   "metadata": {},
   "outputs": [],
   "source": [
    "t = sp_cat(tensor1, tensor2)"
   ]
  },
  {
   "cell_type": "code",
   "execution_count": 17,
   "metadata": {},
   "outputs": [
    {
     "data": {
      "text/plain": [
       "tensor([[ 1.,  1., 11., 11.],\n",
       "        [ 2.,  2., 22., 22.],\n",
       "        [ 3.,  3.,  0.,  0.],\n",
       "        [ 4.,  4.,  0.,  0.],\n",
       "        [ 5.,  5.,  0.,  0.],\n",
       "        [ 0.,  0.,  0.,  0.],\n",
       "        [ 0.,  0., 33., 33.],\n",
       "        [ 0.,  0., 44., 44.],\n",
       "        [ 0.,  0., 55., 55.],\n",
       "        [ 0.,  0.,  0.,  0.]], grad_fn=<SparseConcatFunctionBackward>)"
      ]
     },
     "execution_count": 17,
     "metadata": {},
     "output_type": "execute_result"
    }
   ],
   "source": [
    "t.features"
   ]
  },
  {
   "cell_type": "code",
   "execution_count": 18,
   "metadata": {},
   "outputs": [
    {
     "data": {
      "text/plain": [
       "tensor([[1., 1.],\n",
       "        [2., 2.],\n",
       "        [3., 3.],\n",
       "        [4., 4.],\n",
       "        [5., 5.],\n",
       "        [0., 0.]], requires_grad=True)"
      ]
     },
     "execution_count": 18,
     "metadata": {},
     "output_type": "execute_result"
    }
   ],
   "source": [
    "tensor1.features"
   ]
  },
  {
   "cell_type": "code",
   "execution_count": 19,
   "metadata": {},
   "outputs": [
    {
     "data": {
      "text/plain": [
       "tensor([[11., 11.],\n",
       "        [22., 22.],\n",
       "        [33., 33.],\n",
       "        [44., 44.],\n",
       "        [55., 55.],\n",
       "        [ 0.,  0.]], requires_grad=True)"
      ]
     },
     "execution_count": 19,
     "metadata": {},
     "output_type": "execute_result"
    }
   ],
   "source": [
    "tensor2.features"
   ]
  },
  {
   "cell_type": "code",
   "execution_count": 20,
   "metadata": {},
   "outputs": [
    {
     "data": {
      "text/plain": [
       "tensor([[[ 0,  1,  2,  3,  4,  5,  6,  6,  6,  6, -1, -1],\n",
       "         [ 0,  1,  6,  6,  6,  6,  2,  3,  4,  5, -1, -1]]], dtype=torch.int32)"
      ]
     },
     "execution_count": 20,
     "metadata": {},
     "output_type": "execute_result"
    }
   ],
   "source": [
    "tensor1.indice_dict['spcat0'][2]"
   ]
  },
  {
   "cell_type": "code",
   "execution_count": 21,
   "metadata": {},
   "outputs": [
    {
     "data": {
      "text/plain": [
       "(tensor([[0, 0, 0, 0],\n",
       "         [0, 5, 5, 5],\n",
       "         [1, 2, 2, 3],\n",
       "         [1, 3, 3, 3],\n",
       "         [1, 3, 3, 3],\n",
       "         [1, 3, 3, 3],\n",
       "         [1, 4, 5, 6],\n",
       "         [1, 4, 4, 4],\n",
       "         [1, 4, 4, 4],\n",
       "         [1, 4, 4, 4]], dtype=torch.int32), tensor([[0, 0, 0, 0],\n",
       "         [0, 5, 5, 5],\n",
       "         [1, 2, 2, 3],\n",
       "         [1, 3, 3, 3],\n",
       "         [1, 3, 3, 3],\n",
       "         [1, 3, 3, 3]], dtype=torch.int32), tensor([[[ 0,  1,  2,  3,  4,  5,  6,  6,  6,  6, -1, -1],\n",
       "          [ 0,  1,  6,  6,  6,  6,  2,  3,  4,  5, -1, -1]]], dtype=torch.int32), tensor([10], dtype=torch.int32), [10,\n",
       "  20,\n",
       "  30])"
      ]
     },
     "execution_count": 21,
     "metadata": {},
     "output_type": "execute_result"
    }
   ],
   "source": [
    "tensor1.indice_dict['spcat0'] # outids, indices1,indice_pairs, indice_pair_num,spatial_shape1"
   ]
  },
  {
   "cell_type": "code",
   "execution_count": 22,
   "metadata": {},
   "outputs": [],
   "source": [
    "g_out = torch.rand_like(t.features)\n",
    "\n",
    "t.features.backward(g_out)"
   ]
  },
  {
   "cell_type": "code",
   "execution_count": 23,
   "metadata": {},
   "outputs": [
    {
     "data": {
      "text/plain": [
       "tensor([[0.6131, 0.2677, 0.3235, 0.8158],\n",
       "        [0.9890, 0.6911, 0.3143, 0.8138],\n",
       "        [0.3281, 0.9017, 0.2168, 0.2618],\n",
       "        [0.9920, 0.2907, 0.4479, 0.3596],\n",
       "        [0.6361, 0.4242, 0.5477, 0.1727],\n",
       "        [0.5500, 0.3042, 0.2333, 0.7106],\n",
       "        [0.4534, 0.5604, 0.3324, 0.2786],\n",
       "        [0.6336, 0.9248, 0.1487, 0.2284],\n",
       "        [0.2468, 0.4768, 0.1731, 0.0926],\n",
       "        [0.0329, 0.0661, 0.7620, 0.6735]])"
      ]
     },
     "execution_count": 23,
     "metadata": {},
     "output_type": "execute_result"
    }
   ],
   "source": [
    "g_out"
   ]
  },
  {
   "cell_type": "code",
   "execution_count": 24,
   "metadata": {},
   "outputs": [
    {
     "data": {
      "text/plain": [
       "tensor([[0.6131, 0.2677],\n",
       "        [0.9890, 0.6911],\n",
       "        [0.3281, 0.9017],\n",
       "        [0.9920, 0.2907],\n",
       "        [0.6361, 0.4242],\n",
       "        [0.5500, 0.3042]])"
      ]
     },
     "execution_count": 24,
     "metadata": {},
     "output_type": "execute_result"
    }
   ],
   "source": [
    "tensor1.features.grad"
   ]
  },
  {
   "cell_type": "code",
   "execution_count": 25,
   "metadata": {},
   "outputs": [
    {
     "data": {
      "text/plain": [
       "tensor([[0.3235, 0.8158],\n",
       "        [0.3143, 0.8138],\n",
       "        [0.3324, 0.2786],\n",
       "        [0.1487, 0.2284],\n",
       "        [0.1731, 0.0926],\n",
       "        [0.7620, 0.6735]])"
      ]
     },
     "execution_count": 25,
     "metadata": {},
     "output_type": "execute_result"
    }
   ],
   "source": [
    "tensor2.features.grad"
   ]
  },
  {
   "cell_type": "code",
   "execution_count": null,
   "metadata": {},
   "outputs": [],
   "source": []
  },
  {
   "cell_type": "code",
   "execution_count": null,
   "metadata": {},
   "outputs": [],
   "source": []
  }
 ],
 "metadata": {
  "kernelspec": {
   "display_name": "conda_py37",
   "language": "python",
   "name": "conda_py37"
  },
  "language_info": {
   "codemirror_mode": {
    "name": "ipython",
    "version": 3
   },
   "file_extension": ".py",
   "mimetype": "text/x-python",
   "name": "python",
   "nbconvert_exporter": "python",
   "pygments_lexer": "ipython3",
   "version": "3.7.4"
  }
 },
 "nbformat": 4,
 "nbformat_minor": 2
}
